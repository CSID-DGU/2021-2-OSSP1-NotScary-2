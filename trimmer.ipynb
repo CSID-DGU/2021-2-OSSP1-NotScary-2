{
  "nbformat": 4,
  "nbformat_minor": 0,
  "metadata": {
    "colab": {
      "private_outputs": true,
      "provenance": [],
      "mount_file_id": "1uesqyQ4gXOLp9ucnI984FWsO-JIWDs6Z",
      "authorship_tag": "ABX9TyPIVKzPXH8Ap2y6dygLe/Gs",
      "include_colab_link": true
    },
    "kernelspec": {
      "name": "python3",
      "display_name": "Python 3"
    },
    "language_info": {
      "name": "python"
    },
    "accelerator": "TPU"
  },
  "cells": [
    {
      "cell_type": "markdown",
      "metadata": {
        "id": "view-in-github",
        "colab_type": "text"
      },
      "source": [
        "<a href=\"https://colab.research.google.com/github/changnos/2021-2-OSSP1-NotScary-2/blob/main/trimmer.ipynb\" target=\"_parent\"><img src=\"https://colab.research.google.com/assets/colab-badge.svg\" alt=\"Open In Colab\"/></a>"
      ]
    },
    {
      "cell_type": "markdown",
      "source": [
        "#**장구 소리 전처리**\n",
        "1.   파일 불러오기\n",
        "2.   소리 나누기\n",
        "\n",
        "- 장구 소리 데이터 드라이브에 업로드\n",
        "- 장구별 \"덩, 덕, 쿵\" 각 10회 이상 녹음\n",
        "- 장구별 녹음 데이터에서 \"덩, 덕, 쿵\"(덩 10개, 덕 10개, 쿵 10개) 소리 데이터 추출\n"
      ],
      "metadata": {
        "id": "fXdEul2R4civ"
      }
    },
    {
      "cell_type": "markdown",
      "source": [
        "##**1. 파일 불러오기**\n"
      ],
      "metadata": {
        "id": "ATpEUB0w5PkC"
      }
    },
    {
      "cell_type": "code",
      "execution_count": null,
      "metadata": {
        "id": "DegQEHHMs5mw"
      },
      "outputs": [],
      "source": [
        "import os\n",
        "import pandas as pd\n",
        "import numpy as np\n",
        "import seaborn as sns\n",
        "import matplotlib.pyplot as plt\n",
        "\n",
        "from scipy.io import wavfile\n",
        "from glob import glob\n",
        "from tqdm import tqdm\n",
        "\n",
        "%matplotlib inline\n",
        "\n",
        "sns.set_style('darkgrid')"
      ]
    },
    {
      "cell_type": "code",
      "source": [
        "!sudo pip install numba\n",
        "!sudo pip install llvmlite\n",
        "!sudo pip install librosa\n",
        "\n",
        "#한글 깨짐 방지\n",
        "!sudo apt-get install -y fonts-nanum\n",
        "!sudo fc-cache -fv\n",
        "!rm ~/.cache/matplotlib -rf"
      ],
      "metadata": {
        "id": "S-JgOAFitl6W"
      },
      "execution_count": null,
      "outputs": []
    },
    {
      "cell_type": "code",
      "source": [
        "from google.colab import drive\n",
        "drive.mount('/content/drive')"
      ],
      "metadata": {
        "id": "csTrPX34v20K"
      },
      "execution_count": null,
      "outputs": []
    },
    {
      "cell_type": "code",
      "source": [
        "path = '/content/drive/MyDrive/janggu_data'\n",
        "file_list = os.listdir(path + '/original')\n",
        "\n",
        "for file in file_list:\n",
        "    print(file)"
      ],
      "metadata": {
        "id": "2jG-1GVnzgw_"
      },
      "execution_count": null,
      "outputs": []
    },
    {
      "cell_type": "markdown",
      "source": [
        "##**2. 소리 나누기**"
      ],
      "metadata": {
        "id": "Hfn3NAPg0pYa"
      }
    },
    {
      "cell_type": "code",
      "source": [
        "import librosa.display, librosa\n",
        "import soundfile as sf\n",
        "\n",
        "def trimData(file):\n",
        "    y, sr = librosa.load(path + '/original/' + file)\n",
        "    D = np.abs(librosa.stft(y))\n",
        "    onset_env = librosa.onset.onset_strength(y=y, sr=sr,\n",
        "                                            hop_length=512,\n",
        "                                            aggregate=np.median)\n",
        "    peaks = librosa.util.peak_pick(onset_env, pre_max=1, post_max=3, pre_avg=3, post_avg=5, delta=5, wait=10)\n",
        "    D = np.abs(librosa.stft(y))\n",
        "    D_db = librosa.amplitude_to_db(D, ref=np.max)\n",
        "    times = librosa.times_like(onset_env, sr=sr, hop_length=512)\n",
        "    tmp2 = np.array([len(times)-1])\n",
        "    peaks = np.append(peaks, tmp2)\n",
        "\n",
        "    for i in range(len(peaks) - 1):\n",
        "        if(i == 0 or i > 10): continue\n",
        "        start_frame = peaks[i]-5\n",
        "        end_frame = peaks[i + 1]-5\n",
        "        term = end_frame - start_frame\n",
        "        segment = D_db[:, start_frame:end_frame]\n",
        "        ny = y[round(start_frame*512):round(end_frame*512)]\n",
        "        sf.write(path + '/trimmed/' + file[0:-4] + '_' + str(i-1) + '.wav', ny, sr)"
      ],
      "metadata": {
        "id": "bBvWyvU_tveT"
      },
      "execution_count": null,
      "outputs": []
    },
    {
      "cell_type": "code",
      "source": [
        "for file in file_list:\n",
        "    trimData(file);"
      ],
      "metadata": {
        "id": "PuAmte7FuJa9"
      },
      "execution_count": null,
      "outputs": []
    },
    {
      "cell_type": "code",
      "source": [
        "import shutil\n",
        "\n",
        "src = '/content/drive/MyDrive/janggu_data/original/'\n",
        "dest = '/content/drive/MyDrive/janggu_data/used/'\n",
        "\n",
        "files = os.listdir(src)\n",
        "\n",
        "for file in file_list:\n",
        "    shutil.move(src + file, dest)"
      ],
      "metadata": {
        "id": "5JoV_Y6n6RP2"
      },
      "execution_count": null,
      "outputs": []
    },
    {
      "cell_type": "code",
      "source": [],
      "metadata": {
        "id": "KR03AJ-f7Dgm"
      },
      "execution_count": null,
      "outputs": []
    }
  ]
}