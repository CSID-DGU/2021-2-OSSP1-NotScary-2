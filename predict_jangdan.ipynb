{
  "nbformat": 4,
  "nbformat_minor": 0,
  "metadata": {
    "colab": {
      "private_outputs": true,
      "provenance": [],
      "authorship_tag": "ABX9TyP5M5LwVqFWWJk8pVPe+jrv",
      "include_colab_link": true
    },
    "kernelspec": {
      "name": "python3",
      "display_name": "Python 3"
    },
    "language_info": {
      "name": "python"
    }
  },
  "cells": [
    {
      "cell_type": "markdown",
      "metadata": {
        "id": "view-in-github",
        "colab_type": "text"
      },
      "source": [
        "<a href=\"https://colab.research.google.com/github/changnos/2021-2-OSSP1-NotScary-2/blob/main/predict_jangdan.ipynb\" target=\"_parent\"><img src=\"https://colab.research.google.com/assets/colab-badge.svg\" alt=\"Open In Colab\"/></a>"
      ]
    },
    {
      "cell_type": "code",
      "execution_count": null,
      "metadata": {
        "id": "EK2hzvqPFjwM"
      },
      "outputs": [],
      "source": [
        "from google.colab import drive\n",
        "drive.mount('/content/drive')"
      ]
    },
    {
      "cell_type": "code",
      "source": [
        "!sudo pip install numba\n",
        "!sudo pip install llvmlite\n",
        "!sudo pip install librosa\n",
        "\n",
        "#한글 깨짐 방지\n",
        "!sudo apt-get install -y fonts-nanum\n",
        "!sudo fc-cache -fv\n",
        "!rm ~/.cache/matplotlib -rf"
      ],
      "metadata": {
        "id": "OQKa1aWkLEV3"
      },
      "execution_count": null,
      "outputs": []
    },
    {
      "cell_type": "code",
      "source": [
        "import tensorflow as tf\n",
        "import numpy as np\n",
        "\n",
        "file_name = '1028.h5'\n",
        "\n",
        "model = tf.keras.models.load_model('/content/drive/MyDrive/janggu_data/소리모델/' + file_name)"
      ],
      "metadata": {
        "id": "4vjyVihzKeR0"
      },
      "execution_count": null,
      "outputs": []
    },
    {
      "cell_type": "code",
      "source": [
        "import os\n",
        "path = '/content/drive/MyDrive/janggu_data/jangdan/name'\n",
        "file_list = os.listdir(path)\n",
        "\n",
        "for file in file_list:\n",
        "    print(file[0:-5])"
      ],
      "metadata": {
        "id": "1jIgYV6jLOgB"
      },
      "execution_count": null,
      "outputs": []
    },
    {
      "cell_type": "code",
      "source": [
        "import librosa.display, librosa\n",
        "import matplotlib.pyplot as plt\n",
        "import soundfile as sf\n",
        "import unicodedata\n",
        "import warnings\n",
        "warnings.filterwarnings(action='ignore')\n",
        "from sklearn.preprocessing import LabelEncoder\n",
        "le = LabelEncoder()\n",
        "sound_name = ['덕', '덩', '쿵']\n",
        "pad2d = lambda a, i: a[:, 0:i] if a.shape[1] > i else np.hstack((a, np.zeros((a.shape[0], i-a.shape[1]))))\n",
        "\n",
        "accuracy = [];\n",
        "def predictSound(file):\n",
        "    y, sr = librosa.load(path + '/' + file)\n",
        "    ans = []\n",
        "    if(unicodedata.normalize('NFC',file[0:-5]) == '세마치'):\n",
        "        ans = ['덩', '덩', '덕', '쿵', '덕']\n",
        "    if(unicodedata.normalize('NFC',file[0:-5]) == '중중모리'):\n",
        "        ans = ['덩', '덕', '쿵', '덕', '덕', '쿵', '쿵', '덕', '쿵', '쿵']\n",
        "    if(unicodedata.normalize('NFC',file[0:-5]) == '휘모리'):\n",
        "        ans = ['덩', '덕', '덕', '쿵', '덕', '쿵']\n",
        "    if(unicodedata.normalize('NFC',file[0:-5]) == '굿거리'):\n",
        "        ans = ['덩', '덕', '쿵', '덕', '쿵', '덩', '덕', '쿵', '덕', '쿵']\n",
        "    if(unicodedata.normalize('NFC',file[0:-5]) == '자진모리'):\n",
        "        ans = ['덩', '덕', '쿵', '덕', '쿵', '덕', '쿵', '덕']\n",
        "\n",
        "    print(file[0:-5])\n",
        "    print(ans)\n",
        "    # ans = []\n",
        "    # for i in range(int(int(len(file[0:-4]))/3)):\n",
        "    #     ans.append(file[3*i:3*i+3])\n",
        "    D = np.abs(librosa.stft(y))\n",
        "    onset_env = librosa.onset.onset_strength(y=y, sr=sr,\n",
        "                                            hop_length=512,\n",
        "                                            aggregate=np.median)\n",
        "    peaks = librosa.util.peak_pick(onset_env, pre_max=1, post_max=3, pre_avg=5, post_avg=5, delta=5, wait=1)\n",
        "    D = np.abs(librosa.stft(y))\n",
        "    D_db = librosa.amplitude_to_db(D, ref=np.max)\n",
        "    times = librosa.times_like(onset_env, sr=sr, hop_length=512)\n",
        "    tmp2 = np.array([len(times)-1])\n",
        "    peaks = np.append(peaks, tmp2)\n",
        "    result = []\n",
        "    for i in range(len(peaks)-1):\n",
        "        start_frame = peaks[i]-3\n",
        "        end_frame = peaks[i + 1]-3\n",
        "        ny = y[round(start_frame*512):round(end_frame*512)]\n",
        "        mfcc = librosa.feature.mfcc(y=ny, sr=sr, n_mfcc=100)\n",
        "        pad_width = 86 - mfcc.shape[1]\n",
        "        mfcc = np.pad(mfcc, pad_width=((0,0), (0,pad_width)),mode='constant')\n",
        "        mfcc= np.expand_dims(mfcc, 0)\n",
        "        check = model.predict(mfcc)[0].tolist()\n",
        "        cc = check.index(max(check))\n",
        "        print(sound_name[cc])\n",
        "        result.append(sound_name[cc])\n",
        "\n",
        "    # 최대 길이 공통 부분 구하는 알고리즘 필요\n",
        "    al = len(ans)\n",
        "    print(\"al: \", al);\n",
        "    cnt = 0\n",
        "    for i in range(al):\n",
        "        if(result[i] == unicodedata.normalize('NFC',ans[i])):\n",
        "            cnt += 1\n",
        "    accuracy.append(cnt/al*100);\n",
        "    print(ans)\n",
        "    print(\"정확도: \" + str(cnt/al*100) + \"%\")\n",
        "    avg = sum(accuracy)/len(accuracy)\n",
        "    print(\"정확도 평균: \" + str(avg) + \"%\")\n"
      ],
      "metadata": {
        "id": "cu8awP-_L0lY"
      },
      "execution_count": null,
      "outputs": []
    },
    {
      "cell_type": "code",
      "source": [
        "for file in file_list:\n",
        "    predictSound(file);"
      ],
      "metadata": {
        "id": "ttzGl11UcQRV"
      },
      "execution_count": null,
      "outputs": []
    }
  ]
}