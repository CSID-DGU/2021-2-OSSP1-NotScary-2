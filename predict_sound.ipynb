{
  "nbformat": 4,
  "nbformat_minor": 0,
  "metadata": {
    "colab": {
      "private_outputs": true,
      "provenance": [],
      "authorship_tag": "ABX9TyMy0a+1DU/q1uhTkp2/uQbp",
      "include_colab_link": true
    },
    "kernelspec": {
      "name": "python3",
      "display_name": "Python 3"
    },
    "language_info": {
      "name": "python"
    }
  },
  "cells": [
    {
      "cell_type": "markdown",
      "metadata": {
        "id": "view-in-github",
        "colab_type": "text"
      },
      "source": [
        "<a href=\"https://colab.research.google.com/github/changnos/2021-2-OSSP1-NotScary-2/blob/main/predict_sound.ipynb\" target=\"_parent\"><img src=\"https://colab.research.google.com/assets/colab-badge.svg\" alt=\"Open In Colab\"/></a>"
      ]
    },
    {
      "cell_type": "code",
      "execution_count": null,
      "metadata": {
        "id": "-J-7EJzKhERQ"
      },
      "outputs": [],
      "source": [
        "import tensorflow as tf\n",
        "import numpy as np\n",
        "import librosa.display, librosa\n",
        "import unicodedata\n",
        "import sys\n",
        "import os\n",
        "os.environ['TF_CPP_MIN_LOG_LEVEL'] = '2'\n",
        "model_name = '1115_100.h5'\n",
        "model = tf.keras.models.load_model(model_name, compile=False)\n",
        "sound_name = ['덕', '덩', '쿵']\n",
        "# def checkSound(file, jangdan):\n",
        "def checkSound():\n",
        "    file = '중중모리4.wav'\n",
        "    jangdan = 3\n",
        "    y, sr = librosa.load(file)\n",
        "    ans = []\n",
        "    # 굿거리\n",
        "    if(jangdan == 0):\n",
        "        ans = ['덩', '덕', '쿵', '덕', '쿵', '덩', '덕', '쿵', '덕', '쿵']\n",
        "    # 세마치\n",
        "    if(jangdan == 1):\n",
        "        ans = ['덩', '덩', '덕', '쿵', '덕']\n",
        "    # 자진모리\n",
        "    if(jangdan == 2):\n",
        "        ans = ['덩', '덕', '쿵', '덕', '쿵', '덕', '쿵', '덕']\n",
        "    # 중중모리\n",
        "    if(jangdan == 3):\n",
        "        ans = ['덩', '덕', '쿵', '덕', '덕', '쿵', '쿵', '덕', '쿵', '쿵']\n",
        "    # 휘모리\n",
        "    if(jangdan == 4):\n",
        "        ans = ['덩', '덕', '덕', '쿵', '덕', '쿵']\n",
        "\n",
        "    onset_env = librosa.onset.onset_strength(y=y, sr=sr,\n",
        "                                            hop_length=512,\n",
        "                                            aggregate=np.median)\n",
        "    peaks = librosa.util.peak_pick(onset_env, pre_max=1, post_max=3, pre_avg=5, post_avg=5, delta=5, wait=1)\n",
        "    times = librosa.times_like(onset_env, sr=sr, hop_length=512)\n",
        "    tmp2 = np.array([len(times)-1])\n",
        "    peaks = np.append(peaks, tmp2)\n",
        "    result = []\n",
        "    for i in range(len(peaks)-1):\n",
        "        start_frame = peaks[i]-3\n",
        "        end_frame = peaks[i + 1]-3\n",
        "        ny = y[round(start_frame*512):round(end_frame*512)]\n",
        "        mfcc = librosa.feature.mfcc(y=ny, sr=sr, n_mfcc=100)\n",
        "        pad_width = 75 - mfcc.shape[1]\n",
        "        if(pad_width < 0): pad_width = 0\n",
        "        mfcc = np.pad(mfcc, pad_width=((0,0), (0,pad_width)),mode='constant')\n",
        "        mfcc= np.expand_dims(mfcc, 0)\n",
        "        check = model.predict(mfcc)[0].tolist()\n",
        "        cc = check.index(max(check))\n",
        "        result.append(sound_name[cc])\n",
        "\n",
        "    al = len(ans)\n",
        "    cnt = 0\n",
        "    for i in range(al):\n",
        "        if(result[i] == unicodedata.normalize('NFC',ans[i])):\n",
        "            cnt += 1\n",
        "\n",
        "    acc = round(cnt/al*100, 2)\n",
        "\n",
        "    ret = {\n",
        "        \"peaks\": peaks,\n",
        "        \"result\" : result,\n",
        "        \"acc\": acc\n",
        "    }\n",
        "    return ret\n",
        "\n",
        "tmp = checkSound()\n",
        "print(tmp)"
      ]
    }
  ]
}